{
 "cells": [
  {
   "cell_type": "markdown",
   "metadata": {},
   "source": [
    "# Introduction to Uncovered Interest Rate Parity: Empirical Study with Linear Regression\n",
    "\n",
    "Uncovered Interest Rate Parity (UIP) is a fundamental concept in international finance, suggesting that the difference in interest rates between two countries should equal the expected change in exchange rates between their currencies. In theory, this means that investors cannot gain an arbitrage advantage by switching between currencies since the future exchange rate should adjust to offset interest rate differentials. However, whether UIP holds in practice remains a subject of debate, especially considering real-world factors such as investor behavior and market conditions.\n",
    "\n",
    "This project aims to empirically test the validity of UIP using linear regression models. The analysis will be grounded in the examination of secured and unsecured risk-free rates, specifically focusing on the following indices:\n",
    "\n",
    "- **SOFR (Secured Overnight Financing Rate)**: A U.S. secured rate widely used in financial markets.\n",
    "- **CORRA (Canadian Overnight Repo Rate Average)**: A secured Canadian rate reflecting the overnight lending market.\n",
    "- **ESTER (Euro Short-Term Rate)**: A Eurozone unsecured rate, providing insight into short-term European market trends.\n",
    "- **SONIA (Sterling Overnight Index Average)**: An unsecured rate from the U.K., representing overnight funding costs.\n",
    "- **SARON (Swiss Average Rate Overnight)**: A Swiss secured rate frequently used in financial instruments.\n",
    "- **TONAR (Tokyo Overnight Average Rate)**: A Japanese unsecured rate tracking overnight transactions in the Japanese market.\n",
    "- **SORA (Singapore Overnight Rate Average)**: An unsecured rate from Singapore, offering insights into Southeast Asian financial conditions.\n",
    "\n",
    "By incorporating these diverse rates sourced from reputable financial institutions such as the Bank of Japan and the Federal Reserve, this study seeks to evaluate the practical applicability of UIP. Data will be meticulously gathered using a Bloomberg Terminal, allowing for real-time analysis and economic research. The utilization of both secured and unsecured risk-free rates will provide a comprehensive view, enriching the overall analysis of global interest rate dynamics. \n",
    "\n",
    "Through this project, the goal is to identify whether UIP holds across various currencies and interest rates, examining the potential deviations and underlying reasons for any discrepancies found. The insights gathered will not only contribute to academic understanding but will also have practical implications for investors and policymakers navigating the complexities of international finance. **This paper seeks to add to the existing body of literature on Uncovered Interest Rate Parity (UIP) by focusing on risk-free rates, as historically, rates like LIBOR have been used, which are now widely considered unsuitable due to concerns over transparency and reliability.**"
   ]
  },
  {
   "cell_type": "markdown",
   "metadata": {},
   "source": [
    "# Information Gathering Stage\n",
    "\n",
    "The first phase of the project focuses on gathering accurate and reliable data for an empirical study of Uncovered Interest Rate Parity (UIP). This stage is critical, as the quality and timeliness of the data collected will directly influence the validity of the results. The main objectives of this phase are to source historical data on various risk-free rates and currency exchange rates, ensuring that the information is consistent and representative of real-world financial markets. \n",
    "\n",
    "### Key Steps in the Information Gathering Stage:\n",
    "\n",
    "1. **Identification of Relevant Indices**:\n",
    "   - The study will analyze both secured and unsecured risk-free rates across several key financial markets. The indices selected for this study include:\n",
    "     - **SOFR (Secured Overnight Financing Rate)** - U.S. based secured rate\n",
    "     - **CORRA (Canadian Overnight Repo Rate Average)** - Canadian secured rate\n",
    "     - **ESTER (Euro Short-Term Rate)** - Eurozone unsecured rate\n",
    "     - **SONIA (Sterling Overnight Index Average)** - U.K. unsecured rate\n",
    "     - **SARON (Swiss Average Rate Overnight)** - Swiss secured rate\n",
    "     - **TONAR (Tokyo Overnight Average Rate)** - Japanese unsecured rate\n",
    "     - **SORA (Singapore Overnight Rate Average)** - Southeast Asian unsecured rate\n",
    "\n",
    "2. **Data Sourcing from Reputable Financial Institutions**:\n",
    "   - To ensure data reliability, all historical interest rates and exchange rates will be sourced from trusted financial institutions, including:\n",
    "     - **Federal Reserve** for SOFR data\n",
    "     - **Bank of Canada** for CORRA information\n",
    "     - **European Central Bank** for ESTER figures\n",
    "     - **Bank of England** for SONIA data\n",
    "     - **SIX Swiss Exchange** for SARON statistics\n",
    "     - **Bank of Japan** for TONAR rates\n",
    "     - **Monetary Authority of Singapore (MAS)** for SORA figures\n",
    "\n",
    "3. **Utilization of Bloomberg Terminal for Data Collection**:\n",
    "   - A Bloomberg Terminal will be used for accessing up-to-date and historical data on the selected indices. The terminal provides a comprehensive database for economic indicators, interest rates, and exchange rates, ensuring high accuracy in data collection.\n",
    "   - Key metrics include:\n",
    "     - Historical values of the interest rates for each index.\n",
    "     - Corresponding currency exchange rates over the same period.\n",
    "\n",
    "4. **Data Validation and Consistency Checks**:\n",
    "   - The collected data will undergo thorough validation checks to ensure consistency across different sources and to eliminate any potential anomalies or gaps in the dataset. This includes cross-referencing with public financial reports, central bank publications, and market analyses.\n",
    "\n",
    "5. **Organizing and Structuring Data for Analysis**:\n",
    "   - Once validated, the data will be structured into a format suitable for statistical analysis, particularly for linear regression models. This will involve organizing interest rate differentials, matching them with corresponding periods of exchange rate changes, and preparing datasets that distinguish between secured and unsecured rates.\n",
    "\n",
    "By the end of this stage, a comprehensive dataset will be ready for analysis, providing the foundation for testing the UIP hypothesis using robust empirical methods.\n"
   ]
  },
  {
   "cell_type": "markdown",
   "metadata": {},
   "source": [
    "# Comparison of Risk Free Rates\n",
    "\n",
    "| **Index** | **Convention** | **Earliest Available Data** | **Secured/Unsecured** |\n",
    "|-----------|----------------|-----------------------------|-----------------------|\n",
    "| SOFR      | Actual/360      | April 3rd, 2018             | Secured               |\n",
    "| CORRA     | Actual/365      | August 12th, 1997           | Secured               |\n",
    "| ESTER     | Actual/360      | October 1st, 2019           | Unsecured             |\n",
    "| SONIA     | Actual/365      | Jan 2nd, 1997               | Unsecured             |\n",
    "| SARON     | Actual/360      | June 21st, 1999             | Secured               |\n",
    "| TONAR     | Actual/365      | Oct 9th, 1992               | Unsecured             |\n",
    "| SORA      | Actual/365      | July 1st, 2005              | Unsecured             |\n",
    "\n",
    "*Table 1: Comparison of Indices*\n"
   ]
  }
 ],
 "metadata": {
  "language_info": {
   "name": "python"
  }
 },
 "nbformat": 4,
 "nbformat_minor": 2
}
